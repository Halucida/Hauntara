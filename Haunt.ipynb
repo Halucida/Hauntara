{
  "nbformat": 4,
  "nbformat_minor": 0,
  "metadata": {
    "colab": {
      "provenance": [],
      "gpuType": "T4",
      "authorship_tag": "ABX9TyMgZ3rUsrY3XWXqxwxglHMN"
    },
    "kernelspec": {
      "name": "python3",
      "display_name": "Python 3"
    },
    "language_info": {
      "name": "python"
    },
    "accelerator": "GPU"
  },
  "cells": [
    {
      "cell_type": "code",
      "source": [
        "import tensorflow as tf\n",
        "\n",
        "from tensorflow.keras.models import Model\n",
        "from tensorflow.keras.optimizers import SGD\n",
        "from tensorflow.keras.layers import Flatten\n",
        "\n",
        "import tensorflow_datasets as tfds; tfds.disable_progress_bar()"
      ],
      "metadata": {
        "id": "5R_Be0i-zAo9"
      },
      "execution_count": null,
      "outputs": []
    },
    {
      "cell_type": "code",
      "source": [
        "split = ['train[:15%]', 'train[90%:95%]', 'train[95%:]']\n",
        "\n",
        "(train, testi, valid) = tfds.load(dataset, split=split)"
      ],
      "metadata": {
        "id": "Eakb6duOro-b"
      },
      "execution_count": null,
      "outputs": []
    },
    {
      "cell_type": "code",
      "source": [
        "def imager(image, label):\n",
        "  image = tf.image.resize(image, (160, 160))\n",
        "  image = tf.math.divide(image, 255.0)\n",
        "  return image, label\n",
        "\n",
        "train = train.map(imager).batch(128).prefetch(1)\n",
        "testi = testi.map(imager).batch(128).prefetch(1)\n",
        "valid = valid.map(imager).batch(128).prefetch(1)"
      ],
      "metadata": {
        "id": "Z2oL3KGW8y1a"
      },
      "execution_count": null,
      "outputs": []
    },
    {
      "cell_type": "code",
      "source": [
        "from tensorflow.keras.applications.mobilenet"
      ],
      "metadata": {
        "id": "y6N_2H7BBE6l"
      },
      "execution_count": null,
      "outputs": []
    },
    {
      "cell_type": "code",
      "source": [
        "model_input = null"
      ],
      "metadata": {
        "id": "cu0ENmXQA9hP"
      },
      "execution_count": null,
      "outputs": []
    },
    {
      "cell_type": "code",
      "source": [
        "model_output = null\n",
        "\n",
        "model = Model(inputs=model_input, outputs=model_output)"
      ],
      "metadata": {
        "id": "N2ZJhJccA5Jz"
      },
      "execution_count": null,
      "outputs": []
    },
    {
      "cell_type": "code",
      "source": [
        "optimizer = SGD()\n",
        "\n",
        "model.compile(optimizer=optimizer, loss=\"binary_crossentropy\", metrics=[\"accuracy\"])\n",
        "\n",
        "hist = model.fit(train, validation_data=valid, epochs=5)"
      ],
      "metadata": {
        "id": "L2tBPiSPLjmo"
      },
      "execution_count": null,
      "outputs": []
    }
  ]
}