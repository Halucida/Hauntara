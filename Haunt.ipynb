{
  "nbformat": 4,
  "nbformat_minor": 0,
  "metadata": {
    "colab": {
      "provenance": [],
      "authorship_tag": "ABX9TyNuQNuGiJGZAZW/mSYaO/+D"
    },
    "kernelspec": {
      "name": "python3",
      "display_name": "Python 3"
    },
    "language_info": {
      "name": "python"
    }
  },
  "cells": [
    {
      "cell_type": "code",
      "source": [
        "import tensorflow as tf\n",
        "\n",
        "from tensorflow.keras.models import Model\n",
        "from tensorflow.keras.optimizers import SGD\n",
        "from tensorflow.keras.layers import Flatten\n",
        "\n",
        "import tensorflow_datasets as tfds; tfds.disable_progress_bar()"
      ],
      "metadata": {
        "id": "5R_Be0i-zAo9"
      },
      "execution_count": 1,
      "outputs": []
    },
    {
      "cell_type": "code",
      "source": [
        "split = ['train[:15%]', 'train[90%:95%]', 'train[95%:]']\n",
        "\n",
        "(train, testi, validator) = tfds.load(dataset, split=split)"
      ],
      "metadata": {
        "id": "Eakb6duOro-b"
      },
      "execution_count": 3,
      "outputs": []
    }
  ]
}