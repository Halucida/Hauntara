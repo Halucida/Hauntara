{
  "nbformat": 4,
  "nbformat_minor": 0,
  "metadata": {
    "colab": {
      "provenance": [],
      "authorship_tag": "ABX9TyNQubNamlF6vkiJMryYLVTZ"
    },
    "kernelspec": {
      "name": "python3",
      "display_name": "Python 3"
    },
    "language_info": {
      "name": "python"
    }
  },
  "cells": [
    {
      "cell_type": "code",
      "source": [
        "import tensorflow as tf\n",
        "\n",
        "from tensorflow.keras.models import Model\n",
        "from tensorflow.keras.optimizers import SGD\n",
        "from tensorflow.keras.layers import Flatten\n",
        "\n",
        "from Helper import *\n",
        "\n",
        "import tensorflow_datasets as tfds; tfds.disable_progress_bar()"
      ],
      "metadata": {
        "id": "5R_Be0i-zAo9"
      },
      "execution_count": null,
      "outputs": []
    },
    {
      "cell_type": "code",
      "source": [
        "false = False\n",
        "\n",
        "mobilenet = Mobilenet(input_shape=(160, 160, 3), include_top=false)\n",
        "\n",
        "mobilenet.trainable = false"
      ],
      "metadata": {
        "id": "krStFuDs1dIo"
      },
      "execution_count": null,
      "outputs": []
    },
    {
      "cell_type": "code",
      "source": [
        "x = Flatten()(mobilenet)\n",
        "\n",
        "model = Model(inputs, outputs)\n",
        "\n",
        "model.compile(loss=loss, metrics=metrics)"
      ],
      "metadata": {
        "id": "B2QvG_4nSJbP"
      },
      "execution_count": null,
      "outputs": []
    },
    {
      "cell_type": "code",
      "source": [
        "epochs = 5; verbose = 1\n",
        "\n",
        "hist = model.fit(train_dataset, validation_data=validation_dataset, epochs=epochs, verbose=verbose)"
      ],
      "metadata": {
        "id": "WYyoou6uICUF"
      },
      "execution_count": null,
      "outputs": []
    },
    {
      "cell_type": "code",
      "source": [
        "def find_loss(loss_function, label, model, test):\n",
        "  logits = model.predict(test)\n",
        "  loss_i = loss_function()\n",
        "  return loss_i.numpy()\n",
        "\n",
        "find_loss()"
      ],
      "metadata": {
        "id": "uQf7b_UvKHk5"
      },
      "execution_count": null,
      "outputs": []
    }
  ]
}